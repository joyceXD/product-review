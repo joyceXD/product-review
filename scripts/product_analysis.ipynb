{
 "cells": [
  {
   "cell_type": "code",
   "execution_count": 1,
   "metadata": {},
   "outputs": [
    {
     "name": "stderr",
     "output_type": "stream",
     "text": [
      "C:\\Users\\310195644\\AppData\\Local\\Continuum\\Anaconda2\\lib\\site-packages\\matplotlib\\__init__.py:872: UserWarning: axes.color_cycle is deprecated and replaced with axes.prop_cycle; please use the latter.\n",
      "  warnings.warn(self.msg_depr % (key, alt_key))\n"
     ]
    }
   ],
   "source": [
    "import db_util\n",
    "import gc\n",
    "import gzip\n",
    "import json\n",
    "import math\n",
    "import matplotlib.pyplot as plt\n",
    "import nltk\n",
    "import numpy\n",
    "import pandas as pd\n",
    "import pymongo\n",
    "import pysentiment\n",
    "import re\n",
    "import seaborn as sns\n",
    "import sentiment_util\n",
    "import scipy\n",
    "import spacy\n",
    "import time\n",
    "import unicodedata\n",
    "import warnings\n",
    "\n",
    "from bs4 import BeautifulSoup\n",
    "from datetime import datetime\n",
    "from nltk.corpus import stopwords\n",
    "from textblob import TextBlob\n",
    "from textstat.textstat import textstat \n",
    "from wordcloud import WordCloud\n",
    "\n",
    "warnings.simplefilter('ignore')"
   ]
  },
  {
   "cell_type": "code",
   "execution_count": 2,
   "metadata": {
    "collapsed": true
   },
   "outputs": [],
   "source": [
    "client = db_util.connect_mongo(host='localhost', username=None, password=None, port=27017, db='product')"
   ]
  },
  {
   "cell_type": "markdown",
   "metadata": {},
   "source": [
    "# 0. Exploratory data analysis"
   ]
  },
  {
   "cell_type": "markdown",
   "metadata": {},
   "source": [
    "## 0.1 Rating distribution"
   ]
  },
  {
   "cell_type": "code",
   "execution_count": 3,
   "metadata": {
    "collapsed": true
   },
   "outputs": [],
   "source": [
    "category_list = ['Books', 'Electronics', 'Movies & TV', 'CDs & Vinyl', 'Clothing, Shoes & Jewelry', \n",
    "                 'Home & Kitchen', 'Kindle Store', 'Sports & Outdoors', 'Cell Phones & Accessories', \n",
    "                 'Health & Personal Care', 'Toys & Games', 'Video Games', 'Tools & Home Improvement', \n",
    "                 'Beauty', 'Apps for Android', 'Office Products', 'Pet Supplies', 'Automotive', \n",
    "                 'Grocery & Gourmet Food', 'Patio, Lawn & Garden', 'Baby', 'Digital Music', 'Musical Instruments', \n",
    "                 'Amazon Instant Video']"
   ]
  },
  {
   "cell_type": "code",
   "execution_count": 4,
   "metadata": {},
   "outputs": [
    {
     "name": "stdout",
     "output_type": "stream",
     "text": [
      "Average rating of all reviews:  4.20822567634\n"
     ]
    }
   ],
   "source": [
    "cursor = client.item_review.aggregate([{'$match': {'overall': {'$exists': True},\n",
    "                                                   'itemPrice': {'$exists': True} } },\n",
    "                                       {'$project': {'overall': 1,\n",
    "                                                     'itemPrice': 1,\n",
    "                                                     'category_all': {'$arrayElemAt': ['$itemCategories', 0] } } },\n",
    "                                       {'$project': {'overall': 1,\n",
    "                                                     'itemPrice': 1,\n",
    "                                                     'category': {'$arrayElemAt': ['$category_all', 0] } } } ],\n",
    "                                      allowDiskUse=True)\n",
    "pd_rating = pd.DataFrame(list(cursor))\n",
    "pd_rating = pd_rating[pd_rating['category'].isin(category_list)]\n",
    "pd_rating_freq = pd_rating.groupby('overall').size().reset_index(name='count')\n",
    "pd_rating_freq_cat = pd_rating.groupby(['category', 'overall']).size().reset_index(name='count')\n",
    "print 'Average rating of all reviews: ', pd_rating['overall'].mean()"
   ]
  },
  {
   "cell_type": "code",
   "execution_count": 5,
   "metadata": {},
   "outputs": [
    {
     "data": {
      "image/png": "[encoded data removed]",
      "text/plain": [
       "<matplotlib.figure.Figure at 0x11fbdd68>"
      ]
     },
     "metadata": {},
     "output_type": "display_data"
    }
   ],
   "source": [
    "sns.plt.figure(figsize=(12, 8))\n",
    "g = sns.barplot(x=\"overall\", y=\"count\", data=pd_rating_freq, palette=sns.color_palette(\"RdYlGn\", 5))\n",
    "g.set(xlabel='review rating (stars)', ylabel='number of users', title = 'Overview user rating frequency \\n')\n",
    "sns.plt.show()"
   ]
  },
  {
   "cell_type": "code",
   "execution_count": null,
   "metadata": {},
   "outputs": [
    {
     "data": {
      "text/plain": [
       "101"
      ]
     },
     "execution_count": 6,
     "metadata": {},
     "output_type": "execute_result"
    }
   ],
   "source": [
    "del pd_rating, pd_rating_freq, pd_rating_freq_cat\n",
    "gc.collect()"
   ]
  },
  {
   "cell_type": "markdown",
   "metadata": {},
   "source": [
    "## 0.2 Price distribution"
   ]
  },
  {
   "cell_type": "code",
   "execution_count": null,
   "metadata": {},
   "outputs": [],
   "source": [
    "select_fields = ['asin', 'itemPrice']\n",
    "cursor = client.item_review.find({'itemPrice': {'$exists': True} }, \n",
    "                                 {'asin': 1, 'itemPrice': 1})\n",
    "pd_price = pd.DataFrame(list(cursor), columns=select_fields).drop_duplicates()\n",
    "print 'Average price of all items', pd_price['itemPrice'].mean()"
   ]
  },
  {
   "cell_type": "code",
   "execution_count": null,
   "metadata": {},
   "outputs": [],
   "source": [
    "sns.plt.figure(figsize=(18, 12))\n",
    "g = sns.distplot(pd_price.itemPrice.dropna(), bins=100, kde=False, rug=False)\n",
    "g.set_xticks(list(range(0, int(math.ceil(pd_price.itemPrice.max()))+1, 50)))\n",
    "g.set_xlabel('product price ($)')\n",
    "g.set_yscale('log')\n",
    "g.set_ylabel('number of products')\n",
    "g.set_title('Product price distribution \\n')\n",
    "sns.plt.show()"
   ]
  },
  {
   "cell_type": "code",
   "execution_count": null,
   "metadata": {
    "collapsed": true
   },
   "outputs": [],
   "source": [
    "del pd_price"
   ]
  },
  {
   "cell_type": "markdown",
   "metadata": {},
   "source": [
    "# 1. Is there a relation between price and reviews?"
   ]
  },
  {
   "cell_type": "markdown",
   "metadata": {},
   "source": [
    "## 1.1 Price ~ rating and price ~ number of reviews"
   ]
  },
  {
   "cell_type": "code",
   "execution_count": null,
   "metadata": {
    "collapsed": true
   },
   "outputs": [],
   "source": [
    "select_fields = ['asin', 'avg_rating','count_review', 'item_price']\n",
    "cursor = client.item_review.aggregate([ {'$match': {'itemPrice': {'$exists': True} } },\n",
    "                                        {'$group': {'_id': '$asin',\n",
    "                                                    'item_price': {'$avg': '$itemPrice'},\n",
    "                                                    'avg_rating': {'$avg': \"$overall\"},\n",
    "                                                    'count_review': {'$sum': 1} } } ],\n",
    "                                      allowDiskUse=True)\n",
    "pd_rating = pd.DataFrame(list(cursor))\n",
    "pd_rating.columns = select_fields"
   ]
  },
  {
   "cell_type": "code",
   "execution_count": null,
   "metadata": {},
   "outputs": [],
   "source": [
    "print 'Correlation between avg. rating and item price: ', scipy.stats.pearsonr(pd_rating.avg_rating, pd_rating.item_price)\n",
    "print 'Correlation between # reviews and item price: ', scipy.stats.pearsonr(pd_rating.count_review, pd_rating.item_price)\n",
    "print 'Average number of reviews received per product: ', pd_rating.count_review.mean()\n",
    "print '\\n'\n",
    "print 'Number of reviews received (quantile): \\n', pd_rating.count_review.quantile([0.25, 0.5, 0.75, 0.95, 0.965, 0.99, 1])"
   ]
  },
  {
   "cell_type": "code",
   "execution_count": null,
   "metadata": {},
   "outputs": [],
   "source": [
    "del pd_rating\n",
    "gc.collect()"
   ]
  },
  {
   "cell_type": "markdown",
   "metadata": {},
   "source": [
    "## 1.3 Price ~ review length"
   ]
  },
  {
   "cell_type": "code",
   "execution_count": null,
   "metadata": {
    "collapsed": true
   },
   "outputs": [],
   "source": [
    "select_fields = ['asin', 'item_price', 'item_sales_rank', 'review_text']\n",
    "cursor = client.item_review.find({'itemPrice': {'$exists': True},\n",
    "                                  'reviewText': {'$exists': True},\n",
    "                                  'itemSalesRank': {'$exists': True} }, \n",
    "                                 {'_id': 0, 'asin': 1, 'itemPrice': 1, 'reviewText': 1, 'itemSalesRank': 1})\n",
    "pd_review = pd.DataFrame(list(cursor))\n",
    "pd_review.columns = select_fields\n",
    "pd_review['review_length'] = pd_review['review_text'].apply(lambda text: len(text.split()))\n",
    "pd_review['sales_rank'] = pd_review['item_sales_rank'].apply(lambda v: v.values()[0] if v != {} else None)\n",
    "pd_review = pd_review[pd_review['sales_rank'].notnull()]\n",
    "del pd_review['item_sales_rank']"
   ]
  },
  {
   "cell_type": "code",
   "execution_count": null,
   "metadata": {
    "collapsed": true
   },
   "outputs": [],
   "source": [
    "pd_review_length_agg = pd_review.groupby(['asin', 'item_price', 'sales_rank']) \\\n",
    "                                .agg({'review_text': 'count', 'review_length': 'mean'}).reset_index()\n",
    "pd_review_length_agg = pd_review_length_agg[pd_review_length_agg.review_text >= 8]"
   ]
  },
  {
   "cell_type": "code",
   "execution_count": null,
   "metadata": {
    "scrolled": true
   },
   "outputs": [],
   "source": [
    "print 'Number of words in a review (quantile): \\n', pd_review.review_length.quantile([0.25, 0.5, 0.75, 1])\n",
    "print 'Correlation between review length and item price: ', \\\n",
    "    scipy.stats.pearsonr(pd_review_length_agg.item_price, pd_review_length_agg['review_length'])\n",
    "print 'Correlation between review count and item price: ', \\\n",
    "    scipy.stats.pearsonr(pd_review_length_agg.item_price, pd_review_length_agg['review_text'])\n",
    "print 'Correlation between review length and rank: ', \\\n",
    "    scipy.stats.pearsonr(pd_review_length_agg.sales_rank, pd_review_length_agg['review_length'])\n",
    "print 'Correlation between review count and rank: ', \\\n",
    "    scipy.stats.pearsonr(pd_review_length_agg.sales_rank, pd_review_length_agg['review_text'])"
   ]
  },
  {
   "cell_type": "code",
   "execution_count": null,
   "metadata": {
    "collapsed": true
   },
   "outputs": [],
   "source": [
    "del pd_review, pd_review_length_agg\n",
    "gc.collect()"
   ]
  },
  {
   "cell_type": "markdown",
   "metadata": {},
   "source": [
    "# 2. Review ~ helpfulness"
   ]
  },
  {
   "cell_type": "markdown",
   "metadata": {},
   "source": [
    "## 2.1 Review time"
   ]
  },
  {
   "cell_type": "code",
   "execution_count": null,
   "metadata": {
    "collapsed": true
   },
   "outputs": [],
   "source": [
    "select_fields = ['asin', 'reviewerID', 'unixReviewTime', ]\n",
    "cursor = client.item_review.find({'itemPrice': {'$exists': True},\n",
    "                                  'unixReviewTime': {'$exists': True} }, \n",
    "                                 {'_id': 0, 'asin': 1, 'unixReviewTime': 1, 'reviewerID': 1})\n",
    "pd_time = pd.DataFrame(list(cursor))\n",
    "pd_time.columns = select_fields"
   ]
  },
  {
   "cell_type": "code",
   "execution_count": null,
   "metadata": {
    "collapsed": true
   },
   "outputs": [],
   "source": [
    "pd_time['datetime'] = pd_time.unixReviewTime.apply(lambda x: datetime.fromtimestamp(x))\n",
    "pd_time['day'] = pd_time.datetime.apply(lambda x: x.day)\n",
    "pd_time_agg = pd_time.groupby(['day']).agg({'reviewerID': 'count'}).reset_index()"
   ]
  },
  {
   "cell_type": "code",
   "execution_count": null,
   "metadata": {
    "collapsed": true
   },
   "outputs": [],
   "source": [
    "del pd_time, pd_time_agg\n",
    "gc.collect()"
   ]
  },
  {
   "cell_type": "markdown",
   "metadata": {},
   "source": [
    "## 2.2 Review voted ratio"
   ]
  },
  {
   "cell_type": "code",
   "execution_count": null,
   "metadata": {
    "collapsed": true
   },
   "outputs": [],
   "source": [
    "cursor = client.item_review.aggregate([{'$match': {'helpful': {'$exists': True},\n",
    "                                                   'reviewText': {'$exists': True} } },\n",
    "                                       {'$project': {'_id': 0,\n",
    "                                                     'asin': 1,\n",
    "                                                     'overall': 1,\n",
    "                                                     'reviewerID': 1,\n",
    "                                                     'vote_helpful': {'$arrayElemAt': ['$helpful', 0] },\n",
    "                                                     'vote_total': {'$arrayElemAt': ['$helpful', 1] },\n",
    "                                                     'category_all': {'$arrayElemAt': ['$itemCategories', 0] } } },\n",
    "                                       {'$project': {'_id': 0,\n",
    "                                                     'asin': 1,\n",
    "                                                     'overall': 1,\n",
    "                                                     'reviewerID': 1,\n",
    "                                                     'vote_helpful': 1,\n",
    "                                                     'vote_total': 1,\n",
    "                                                     'category': {'$arrayElemAt': ['$category_all', 0] } } } ],\n",
    "                                      allowDiskUse=True)\n",
    "pd_helpful = pd.DataFrame(list(cursor))\n",
    "\n",
    "category_list = ['Books', 'Electronics', 'Movies & TV', 'CDs & Vinyl', 'Clothing, Shoes & Jewelry', \n",
    "                 'Home & Kitchen', 'Kindle Store', 'Sports & Outdoors', 'Cell Phones & Accessories', \n",
    "                 'Health & Personal Care', 'Toys & Games', 'Video Games', 'Tools & Home Improvement', \n",
    "                 'Beauty', 'Apps for Android', 'Office Products', 'Pet Supplies', 'Automotive', \n",
    "                 'Grocery & Gourmet Food', 'Patio, Lawn & Garden', 'Baby', 'Digital Music', 'Musical Instruments', \n",
    "                 'Amazon Instant Video']\n",
    "pd_helpful = pd_helpful[pd_helpful['category'].isin(category_list)]"
   ]
  },
  {
   "cell_type": "code",
   "execution_count": null,
   "metadata": {
    "collapsed": true
   },
   "outputs": [],
   "source": [
    "pd_review_helpful = pd_helpful.groupby('category').agg({'asin': 'count', \n",
    "                                                        'vote_total': lambda cell: (cell > 0).sum()}).reset_index()\n",
    "pd_review_helpful = pd_review_helpful[pd_review_helpful['category'].isin(category_list)]\n",
    "pd_review_helpful['voted_review_ratio'] = pd_review_helpful['vote_total'].div(pd_review_helpful['asin'])\n",
    "pd_review_helpful = pd_review_helpful.sort_values(['voted_review_ratio'], ascending=[False]).reset_index()"
   ]
  },
  {
   "cell_type": "code",
   "execution_count": null,
   "metadata": {},
   "outputs": [],
   "source": [
    "#Set general plot properties\n",
    "sns.set(style=\"whitegrid\")\n",
    "sns.plt.figure(figsize=(18, 12))\n",
    "# plot total\n",
    "g_t = sns.barplot(x = pd_review_helpful.asin, y = pd_review_helpful.category, color = '#bbbbbb', alpha=0.7)\n",
    "# plot voted\n",
    "g_b = sns.barplot(x = pd_review_helpful.vote_total, y = pd_review_helpful.category, color = '#4484cc', alpha=0.7)\n",
    "\n",
    "bar_t = sns.plt.Rectangle((0,0), 1, 1, fc='#bbbbbb', edgecolor = 'none', alpha=0.4)\n",
    "bar_b = sns.plt.Rectangle((0,0), 1, 1, fc='#4484cc', edgecolor = 'none', alpha=0.4)\n",
    "l = sns.plt.legend([bar_b, bar_t], ['Voted reviews', 'Unvoted reviews'], loc=1, ncol = 2, prop={'size':14})\n",
    "l.draw_frame(False)\n",
    "\n",
    "sns.despine(left=True)\n",
    "g_b.set_title('Voted review ratio per category \\n', fontsize=20)\n",
    "g_b.set_xlabel('number of reviews')\n",
    "g_b.set_ylabel('category')\n",
    "    \n",
    "for item in [g_b.xaxis.label, g_b.yaxis.label]:\n",
    "    item.set_fontsize(18)\n",
    "for item in g_b.get_xticklabels() + g_b.get_yticklabels():\n",
    "    item.set_fontsize(14)\n",
    "\n",
    "sns.plt.show()"
   ]
  },
  {
   "cell_type": "markdown",
   "metadata": {},
   "source": [
    "## 2.2 Review helpful ratio"
   ]
  },
  {
   "cell_type": "code",
   "execution_count": null,
   "metadata": {
    "collapsed": true
   },
   "outputs": [],
   "source": [
    "pd_helpful_filtered = pd_helpful[pd_helpful.vote_total >= 10]\n",
    "pd_helpful_filtered['helpful_ratio'] = pd_helpful_filtered.vote_helpful / pd_helpful_filtered.vote_total\n",
    "pd_helpful_filtered_agg = pd_helpful_filtered.groupby('category').agg({'helpful_ratio': 'mean'}).reset_index()\n",
    "pd_helpful_filtered_agg = pd_helpful_filtered_agg.sort_values(['helpful_ratio'], ascending=[False])"
   ]
  },
  {
   "cell_type": "code",
   "execution_count": null,
   "metadata": {},
   "outputs": [],
   "source": [
    "sns.set(style=\"darkgrid\")\n",
    "sns.plt.figure(figsize=(18, 12))\n",
    "g = sns.barplot(x = pd_helpful_filtered_agg.helpful_ratio, y = pd_helpful_filtered_agg.category, color = '#4484cc', alpha=0.4)\n",
    "g.set_title('Average helpful ratio of all reviews\\n', fontsize=20)\n",
    "g.set_xticklabels(numpy.linspace(0, 1.0, 11), fontsize=14)\n",
    "g.set_xlabel('average review helpful ratio', fontsize=18)\n",
    "g.set_ylabel('category', fontsize=18)\n",
    "for item in g.get_yticklabels():\n",
    "    item.set_fontsize(14)\n",
    "sns.plt.show()"
   ]
  },
  {
   "cell_type": "code",
   "execution_count": null,
   "metadata": {
    "collapsed": true
   },
   "outputs": [],
   "source": [
    "del pd_helpful, pd_review_helpful, pd_helpful_filtered, pd_helpful_filtered_agg\n",
    "gc.collect()"
   ]
  },
  {
   "cell_type": "markdown",
   "metadata": {},
   "source": [
    "# 3. Sentiment analysis - electronics"
   ]
  },
  {
   "cell_type": "code",
   "execution_count": null,
   "metadata": {
    "collapsed": true
   },
   "outputs": [],
   "source": [
    "cursor = client.item_review.aggregate([{'$match': {'helpful': {'$exists': True},\n",
    "                                                   'overall': {'$exists': True},\n",
    "                                                   'itemPrice': {'$exists': True},\n",
    "                                                   'reviewText': {'$exists': True} } },\n",
    "                                       {'$project': {'_id': 0,\n",
    "                                                     'asin': 1,\n",
    "                                                     'overall': 1,\n",
    "                                                     'reviewerID': 1,\n",
    "                                                     'unixReviewTime': 1,\n",
    "                                                     'reviewText': 1,\n",
    "                                                     'itemBrand': 1,\n",
    "                                                     'summary': 1,\n",
    "                                                     'vote_helpful': {'$arrayElemAt': ['$helpful', 0] },\n",
    "                                                     'vote_total': {'$arrayElemAt': ['$helpful', 1] },\n",
    "                                                     'category_all': {'$arrayElemAt': ['$itemCategories', 0] } } },\n",
    "                                       {'$project': {'asin': 1,\n",
    "                                                     'overall': 1,\n",
    "                                                     'reviewerID': 1,\n",
    "                                                     'unixReviewTime': 1,\n",
    "                                                     'reviewText': 1,\n",
    "                                                     'itemBrand': 1,\n",
    "                                                     'summary': 1,\n",
    "                                                     'vote_helpful': 1,\n",
    "                                                     'vote_total': 1,\n",
    "                                                     'category': {'$arrayElemAt': ['$category_all', 0] } } },\n",
    "                                        {'$match': {'category': {'$eq': 'Electronics'} } }],\n",
    "                                      allowDiskUse=True)\n",
    "pd_elec_review = pd.DataFrame(list(cursor))"
   ]
  },
  {
   "cell_type": "code",
   "execution_count": null,
   "metadata": {
    "collapsed": true
   },
   "outputs": [],
   "source": [
    "pd_elec_review = pd_elec_review[pd_elec_review['reviewText'] != '']\n",
    "pd_elec_review = pd_elec_review[pd_elec_review['vote_total'] >= 8]"
   ]
  },
  {
   "cell_type": "code",
   "execution_count": null,
   "metadata": {},
   "outputs": [],
   "source": [
    "pd_elec_review['helpful_ratio'] = pd_elec_review.vote_helpful / pd_elec_review.vote_total\n",
    "pd_elec_review['readability'] = pd_elec_review['reviewText'].apply(textstat.automated_readability_index)\n",
    "pd_elec_review['sentiment'] = pd_elec_review['reviewText'].apply(lambda row: TextBlob(row).sentiment.polarity)\n",
    "pd_elec_review['subjectivity'] = pd_elec_review['reviewText'].apply(lambda row: TextBlob(row).sentiment.subjectivity)\n",
    ";"
   ]
  },
  {
   "cell_type": "code",
   "execution_count": null,
   "metadata": {},
   "outputs": [],
   "source": [
    "sns.plt.figure(figsize=(18, 12))\n",
    "g = sns.distplot(pd_elec_review.subjectivity, bins=10, kde=False, rug=False)\n",
    "g.set_xticks(list(numpy.arange(0, 1.01, 0.1)))\n",
    "g.set_xlabel('review subjectivity', fontsize=18)\n",
    "g.set_ylabel('number of reviews', fontsize=18)\n",
    "g.set_title('Review subjectivity distribution \\n', fontsize=22)\n",
    "for item in g.get_yticklabels() + g.get_xticklabels():\n",
    "    item.set_fontsize(14)\n",
    "sns.plt.show()"
   ]
  },
  {
   "cell_type": "code",
   "execution_count": null,
   "metadata": {},
   "outputs": [],
   "source": [
    "sns.plt.figure(figsize=(18, 12))\n",
    "g = sns.distplot(pd_elec_review.sentiment, bins=20, kde=False, rug=False)\n",
    "g.set_xticks(list(numpy.arange(-1, 1.01, 0.1)))\n",
    "g.set_xlabel('review sentiment', fontsize=18)\n",
    "g.set_ylabel('number of reviews', fontsize=18)\n",
    "g.set_title('Review sentiment distribution \\n', fontsize=22)\n",
    "for item in g.get_yticklabels() + g.get_xticklabels():\n",
    "    item.set_fontsize(14)\n",
    "sns.plt.show()"
   ]
  },
  {
   "cell_type": "code",
   "execution_count": null,
   "metadata": {},
   "outputs": [],
   "source": [
    "scipy.stats.pearsonr(pd_elec_review.sentiment, pd_elec_review.subjectivity)"
   ]
  },
  {
   "cell_type": "code",
   "execution_count": null,
   "metadata": {
    "collapsed": true
   },
   "outputs": [],
   "source": [
    "parsed_docs = []\n",
    "nlp = spacy.load('en')\n",
    "\n",
    "for doc in nlp.pipe(pd_elec_review.reviewText, batch_size=500, n_threads=6):\n",
    "    parsed_docs.append(doc)\n",
    "\n",
    "pd_elec_review['parsed_text'] = parsed_docs\n",
    "pd_elec_review['text_lemma'] = pd_elec_review['parsed_text'].apply(lambda row: sentiment_util.return_lemma_text(row))"
   ]
  },
  {
   "cell_type": "code",
   "execution_count": null,
   "metadata": {
    "collapsed": true
   },
   "outputs": [],
   "source": [
    "text_rating = []\n",
    "\n",
    "for i in range(1,6 ):\n",
    "    text_rating.append(pd_elec_review[pd_elec_review['overall'] == i])"
   ]
  },
  {
   "cell_type": "code",
   "execution_count": null,
   "metadata": {
    "collapsed": true
   },
   "outputs": [],
   "source": [
    "stop = [x.encode('ascii') for x in stopwords.words('english')]\n",
    "stop_self_defined = ['buy', 'come', 'day', 'get', 'go', 'good', 'great', 'know', 'lot', 'month', 'need', 'nice', 'say', 'set',\n",
    "                     'tablet', 'take', 'tell', 'thing', 'think', 'use', 'want', 'way', 'week', 'year', 'len', 'run', 'review',\n",
    "                     'like', 'look', 'new', 'device', 'time', 'make', 'bit', 'little', 'try', 'ne', 'product', 'company',\n",
    "                     'sure', 'find', 'order', 'item', 'open', 'hour', 'right', 'feel', 'second', 'purchase', 'give', 'read',\n",
    "                     'word']\n",
    "stop = stop + stop_self_defined"
   ]
  },
  {
   "cell_type": "code",
   "execution_count": null,
   "metadata": {},
   "outputs": [],
   "source": [
    "colormap_list = ['Reds', 'OrRd', 'YlOrBr', 'YlGn', 'GnBu']\n",
    "for i in range(len(text_rating)):\n",
    "    text = ' '.join(text_rating[i].text_lemma)\n",
    "    text = unicodedata.normalize('NFKD', text).encode('ascii','ignore')\n",
    "    wordcloud = WordCloud(background_color='white', \n",
    "                          relative_scaling = 0.2,\n",
    "                          stopwords=stop,\n",
    "                          colormap=colormap_list[i], max_words=50,\n",
    "                          max_font_size=20).generate(text)\n",
    "    plt.figure()\n",
    "    plt.imshow(wordcloud, interpolation=\"bilinear\")\n",
    "    plt.axis(\"off\")\n",
    "    plt.savefig('../plots/reviews_word_cloud_{}.png'.format(i+1), bbox_inches='tight')\n",
    "    plt.show()"
   ]
  },
  {
   "cell_type": "code",
   "execution_count": null,
   "metadata": {
    "collapsed": true
   },
   "outputs": [],
   "source": []
  }
 ],
 "metadata": {
  "kernelspec": {
   "display_name": "Python 2",
   "language": "python",
   "name": "python2"
  },
  "language_info": {
   "codemirror_mode": {
    "name": "ipython",
    "version": 2
   },
   "file_extension": ".py",
   "mimetype": "text/x-python",
   "name": "python",
   "nbconvert_exporter": "python",
   "pygments_lexer": "ipython2",
   "version": "2.7.13"
  }
 },
 "nbformat": 4,
 "nbformat_minor": 1
}
