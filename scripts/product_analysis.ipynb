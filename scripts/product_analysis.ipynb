{
 "cells": [
  {
   "cell_type": "code",
   "execution_count": 1,
   "metadata": {},
   "outputs": [
    {
     "name": "stderr",
     "output_type": "stream",
     "text": [
      "C:\\Users\\310195644\\AppData\\Local\\Continuum\\Anaconda2\\lib\\site-packages\\matplotlib\\__init__.py:872: UserWarning: axes.color_cycle is deprecated and replaced with axes.prop_cycle; please use the latter.\n",
      "  warnings.warn(self.msg_depr % (key, alt_key))\n"
     ]
    }
   ],
   "source": [
    "import db_util\n",
    "import gzip\n",
    "import json\n",
    "import math\n",
    "import pandas as pd\n",
    "import pymongo\n",
    "import seaborn as sns\n",
    "import scipy\n",
    "import time"
   ]
  },
  {
   "cell_type": "code",
   "execution_count": 2,
   "metadata": {
    "collapsed": true
   },
   "outputs": [],
   "source": [
    "client = db_util.connect_mongo(host='localhost', username=None, password=None, port=27017, db='product')"
   ]
  },
  {
   "cell_type": "markdown",
   "metadata": {},
   "source": [
    "# 0. Exploratory data analysis"
   ]
  },
  {
   "cell_type": "markdown",
   "metadata": {},
   "source": [
    "## 0.1 Rating distribution"
   ]
  },
  {
   "cell_type": "code",
   "execution_count": 3,
   "metadata": {},
   "outputs": [
    {
     "data": {
      "text/plain": [
       "4.206829041301115"
      ]
     },
     "execution_count": 3,
     "metadata": {},
     "output_type": "execute_result"
    }
   ],
   "source": [
    "select_fields = ['overall']\n",
    "cursor = client.item_review.find({'overall' : { '$exists': True },\n",
    "                                  'itemPrice': {'$exists': True}},\n",
    "                                 {'overall': 1, 'itemPrice': 1})\n",
    "pd_rating = pd.DataFrame(list(cursor), columns=select_fields)\n",
    "pd_rating_freq = pd_rating.groupby('overall').size().reset_index(name='count')\n",
    "pd_rating['overall'].mean()"
   ]
  },
  {
   "cell_type": "code",
   "execution_count": 4,
   "metadata": {},
   "outputs": [
    {
     "data": {
      "image/png": "[encoded data removed]",
      "text/plain": [
       "<matplotlib.figure.Figure at 0xc7ebb70>"
      ]
     },
     "metadata": {},
     "output_type": "display_data"
    }
   ],
   "source": [
    "g = sns.barplot(x=\"overall\", y=\"count\", data=pd_rating_freq, palette=sns.color_palette(\"RdYlGn\", 5))\n",
    "g.set(xlabel='review rating (stars)', ylabel='number of users', title = 'Overview user rating frequency')\n",
    "sns.plt.show()"
   ]
  },
  {
   "cell_type": "code",
   "execution_count": 5,
   "metadata": {
    "collapsed": true
   },
   "outputs": [],
   "source": [
    "del pd_rating_freq"
   ]
  },
  {
   "cell_type": "markdown",
   "metadata": {},
   "source": [
    "## 0.2 Price distribution"
   ]
  },
  {
   "cell_type": "code",
   "execution_count": null,
   "metadata": {
    "collapsed": true
   },
   "outputs": [],
   "source": [
    "select_fields = ['asin', 'itemPrice']\n",
    "cursor = client.item_review.find({'itemPrice': {'$exists': True} }, \n",
    "                                 {'asin': 1, 'itemPrice': 1})\n",
    "pd_price = pd.DataFrame(list(cursor), columns=select_fields).drop_duplicates()\n",
    "pd_price['itemPrice'].mean()"
   ]
  },
  {
   "cell_type": "code",
   "execution_count": null,
   "metadata": {
    "collapsed": true
   },
   "outputs": [],
   "source": [
    "g = sns.distplot(pd_price.itemPrice.dropna(), bins=100, kde=False, rug=False)\n",
    "g.set_xticks(list(range(0, int(math.ceil(pd_price.itemPrice.max()))+1, 50)))\n",
    "g.set_xlabel('product price ($)')\n",
    "g.set_ylabel('number of products')\n",
    "g.set_title('Product price distribution')\n",
    "sns.plt.show()"
   ]
  },
  {
   "cell_type": "code",
   "execution_count": null,
   "metadata": {
    "collapsed": true
   },
   "outputs": [],
   "source": [
    "del pd_price"
   ]
  },
  {
   "cell_type": "markdown",
   "metadata": {},
   "source": [
    "# 1. Is there a relation between price and reviews?"
   ]
  },
  {
   "cell_type": "markdown",
   "metadata": {},
   "source": [
    "## 1.1 Price ~ rating"
   ]
  },
  {
   "cell_type": "code",
   "execution_count": null,
   "metadata": {
    "collapsed": true
   },
   "outputs": [],
   "source": [
    "select_fields = ['asin', 'avg_rating', 'itemPrice']\n",
    "cursor = client.item_review.aggregate([ {'$match': {'itemPrice': {'$exists': True} } },\n",
    "                                        {'$group': {'_id': '$asin',\n",
    "                                                    'itemPrice': {'$avg': '$itemPrice'},\n",
    "                                                    'avg_rating': {'$avg': \"$overall\"} } } ],\n",
    "                                      allowDiskUse=True)\n",
    "pd_rating = pd.DataFrame(list(cursor))\n",
    "pd_rating.columns = select_fields"
   ]
  },
  {
   "cell_type": "code",
   "execution_count": null,
   "metadata": {
    "collapsed": true,
    "scrolled": true
   },
   "outputs": [],
   "source": [
    "scipy.stats.pearsonr(pd_rating.avg_rating, pd_rating.itemPrice)"
   ]
  },
  {
   "cell_type": "code",
   "execution_count": null,
   "metadata": {
    "collapsed": true
   },
   "outputs": [],
   "source": []
  }
 ],
 "metadata": {
  "kernelspec": {
   "display_name": "Python 2",
   "language": "python",
   "name": "python2"
  },
  "language_info": {
   "codemirror_mode": {
    "name": "ipython",
    "version": 2
   },
   "file_extension": ".py",
   "mimetype": "text/x-python",
   "name": "python",
   "nbconvert_exporter": "python",
   "pygments_lexer": "ipython2",
   "version": "2.7.13"
  }
 },
 "nbformat": 4,
 "nbformat_minor": 1
}
